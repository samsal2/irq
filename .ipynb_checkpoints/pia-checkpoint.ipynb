{
 "cells": [
  {
   "cell_type": "code",
   "execution_count": 24,
   "id": "0b05fa6e",
   "metadata": {},
   "outputs": [],
   "source": [
    "import numpy as np\n",
    "import pandas as pd\n",
    "import matplotlib.pyplot as plt\n",
    "\n",
    "from dataclasses import dataclass\n",
    "from itertools import starmap\n",
    "from typing import Union, List, Callable, Tuple\n",
    "from pandas import DataFrame, Series\n",
    "from scipy.optimize import minimize\n",
    "from enum import Enum"
   ]
  },
  {
   "cell_type": "code",
   "execution_count": 25,
   "id": "f802f702",
   "metadata": {},
   "outputs": [],
   "source": [
    "# https://doi.org/10.1016/j.fbp.2009.06.003\n",
    "# https://doi.org/10.1016/j.renene.2019.10.060\n",
    "\n",
    "\n",
    "DEFAULT_R = 8.314 # J / mol K\n",
    "DEFAULT_STANDARD_T = 293.15 # K\n"
   ]
  },
  {
   "cell_type": "code",
   "execution_count": null,
   "id": "d3ae93a1",
   "metadata": {},
   "outputs": [],
   "source": [
    "class SpeciesIndex(Enum):\n",
    "    GLYCEROL = 0,\n",
    "    ACETIC_ACID = 1,\n",
    "    WATER = 2,\n",
    "    TRIACETIN = 3,\n",
    "    DIACETIN = 4,\n",
    "    MONOACETIN = 5"
   ]
  },
  {
   "cell_type": "code",
   "execution_count": 26,
   "id": "7a1fefaa",
   "metadata": {},
   "outputs": [],
   "source": [
    "@dataclass\n",
    "class NistShomateEquation:\n",
    "    A: np.float64\n",
    "    B: np.float64\n",
    "    C: np.float64\n",
    "    D: np.float64\n",
    "    E: np.float64\n",
    "    F: np.float64\n",
    "    G: np.float64\n",
    "    H: np.float64\n",
    "    \n",
    "    def cp(self, T: np.float64) -> np.float64:\n",
    "        t = T / 1000\n",
    "        ret = 0\n",
    "        ret += self.A * np.power(t, 0)\n",
    "        ret += self.B * np.power(t, 1)\n",
    "        ret += self.C * np.power(t, 2)\n",
    "        ret += self.D * np.power(t, 3)\n",
    "        ret += self.E * np.power(t, -2)\n",
    "        return ret"
   ]
  },
  {
   "cell_type": "code",
   "execution_count": 28,
   "id": "239cd340",
   "metadata": {},
   "outputs": [],
   "source": [
    "# No kw_only support, using python 3.9.6\n",
    "@dataclass\n",
    "class Substance:\n",
    "    name: str\n",
    "    Cp: Union[np.float64, NistShomateEquation]\n",
    "    Hf: np.float64\n",
    "    MW: np.float64\n",
    "    netr: Callable[List[np.float64], np.float64]"
   ]
  },
  {
   "cell_type": "code",
   "execution_count": 29,
   "id": "d30e2b56",
   "metadata": {},
   "outputs": [],
   "source": [
    "@dataclass\n",
    "class Arrhenius:\n",
    "    A: np.float64\n",
    "    Ea: np.float64\n",
    "    R = np.float64(DEFAULT_R) # J / mol K\n",
    "    \n",
    "    def __call__(self: Arrhenius, T: np.float64) -> np.float64:\n",
    "        return self.A * np.exp(-self.Ea / (self.R * T))\n"
   ]
  },
  {
   "cell_type": "code",
   "execution_count": 30,
   "id": "a13635d4",
   "metadata": {},
   "outputs": [],
   "source": [
    "k1 = Arrhenius(6.9, 3.1e4)\n",
    "kinv1 = Arrhenius(190, 3.3e4)\n",
    "def r1(c: GlobalConcentrations, T: np.float64) -> np.float64:\n",
    "    return -k1(T) * c.glycerol * c.acetic_acid + kinv1(T) * c.monoacetin * c.water\n",
    "\n",
    "\n",
    "k2 = Arrhenius(6.8, 3.1e4),\n",
    "kinv2 = Arrhenius(220, 3.8e4)\n",
    "def r2(c: GlobalConcentrations, T: np.float64) -> np.float64:\n",
    "    return -k2(T) * c.monoacetin * c.acetic_acid + kinv2(T) * c.diacetin * c.water\n",
    "\n",
    "\n",
    "k3 = Arrhenius(2.3, 3.4e4),\n",
    "kinv3 = Arrhenius(200, 4.4e4)\n",
    "def r3(c: GlobalConcentrations, T: np.float64) -> np.float64:\n",
    "    return -k3(T) * c.diacetin * c.acetic_acid + kinv3(T) * c.triacetin * c.water"
   ]
  },
  {
   "cell_type": "code",
   "execution_count": 31,
   "id": "a2d3d65c",
   "metadata": {},
   "outputs": [],
   "source": [
    "def hstd(r: List[Tuple[int, Substance]], p: List[Tuple[int, Substance]]) -> np.float64:\n",
    "    return np.sum(list(starmap(lambda v, s: v * s.Hf, p))) - np.sum(list(starmap(lambda v, s: v * s.Hf, r)))"
   ]
  },
  {
   "cell_type": "code",
   "execution_count": 32,
   "id": "5a9560db",
   "metadata": {},
   "outputs": [],
   "source": [
    "# https://webbook.nist.gov/cgi/cbook.cgi?ID=C56815&Mask=2#Thermo-Condensed\n",
    "glycerol = Substance(\n",
    "    \"Glycerol\",\n",
    "    221.18, \n",
    "    -669.6e3, \n",
    "    92.0938,\n",
    "    lambda c, T: r1(c, T)\n",
    ")\n",
    "\n",
    "# https://webbook.nist.gov/cgi/cbook.cgi?ID=C64197&Mask=2#Thermo-Condensed\n",
    "acetic_acid = Substance(\n",
    "    \"Acetic Acid\",\n",
    "    159.8, \n",
    "    -483.52e3, \n",
    "    60.0520,\n",
    "    lambda c, T: r1(c, T) + r2(c, T) + r3(c, T)\n",
    ")\n",
    "\n",
    "# https://webbook.nist.gov/cgi/cbook.cgi?ID=C7732185&Mask=2#Thermo-Condensed\n",
    "water = Substance(\n",
    "    \"Water\",\n",
    "    NistShomateEquation(\n",
    "        -203.6060, \n",
    "        1523.290, \n",
    "        -3196.413, \n",
    "        2474.455, \n",
    "        3.855326, \n",
    "        -256.5478, \n",
    "        -488.7163, \n",
    "        -285.8304),\n",
    "    -285.83e3,\n",
    "    60.0520,\n",
    "    lambda c, T: -r1(c, T) - r2(c, T) - r3(c, T)\n",
    ")\n",
    "\n",
    "# https://webbook.nist.gov/cgi/cbook.cgi?ID=C102761&Mask=2#Thermo-Condensed\n",
    "triacetin = Substance(\n",
    "    \"Triacetin\",\n",
    "    389.0,\n",
    "    -1330.8e3,\n",
    "    218.2039,\n",
    "    lambda c, T: -r3(c, T)\n",
    ")\n",
    "\n",
    "# https://webbook.nist.gov/cgi/cbook.cgi?ID=C25395317&Units=SI&Mask=2#Thermo-Condensed\n",
    "# https://doi.org/10.1016/j.rineng.2022.100502\n",
    "diacetin = Substance(\n",
    "    \"Diacetin\",\n",
    "    340.98,\n",
    "    -1120.7e3,\n",
    "    176.1672,\n",
    "    lambda c, T: -r2(c, T) + r3(c, T)\n",
    ")\n",
    "\n",
    "# https://webbook.nist.gov/cgi/cbook.cgi?ID=C26446355&Mask=2#Thermo-Condensed\n",
    "# https://doi.org/10.1016/j.rineng.2022.100502\n",
    "monoacetin = Substance(\n",
    "    \"Monoacetin\",\n",
    "    291.36,\n",
    "    -903.53e3,\n",
    "    134.1305,\n",
    "    lambda c, T: -r1(c, T) + r2(c, T)\n",
    ")"
   ]
  },
  {
   "cell_type": "code",
   "execution_count": 33,
   "id": "fd90fcd7",
   "metadata": {},
   "outputs": [
    {
     "data": {
      "text/plain": [
       "-36240.0"
      ]
     },
     "execution_count": 33,
     "metadata": {},
     "output_type": "execute_result"
    }
   ],
   "source": [
    "hstd(((1, glycerol), (1, acetic_acid)), ((1, monoacetin), (1, water)))"
   ]
  },
  {
   "cell_type": "code",
   "execution_count": 34,
   "id": "fcf13225",
   "metadata": {},
   "outputs": [
    {
     "data": {
      "text/plain": [
       "-19480.0"
      ]
     },
     "execution_count": 34,
     "metadata": {},
     "output_type": "execute_result"
    }
   ],
   "source": [
    "hstd(((1, monoacetin), (1, acetic_acid)), ((1, diacetin), (1, water)))"
   ]
  },
  {
   "cell_type": "code",
   "execution_count": 35,
   "id": "c4de8edc",
   "metadata": {},
   "outputs": [
    {
     "data": {
      "text/plain": [
       "-12410.0"
      ]
     },
     "execution_count": 35,
     "metadata": {},
     "output_type": "execute_result"
    }
   ],
   "source": [
    "hstd(((1, diacetin), (1, acetic_acid)), ((1, triacetin), (1, water)))"
   ]
  },
  {
   "cell_type": "code",
   "execution_count": null,
   "id": "602c47e4",
   "metadata": {},
   "outputs": [],
   "source": [
    "def find_exit_concentrations(c0: GlobalConcentrations, tau: np.float64) -> GlobalConcentrations:\n",
    "    def objfun(c: List[np.float64]) -> List[np.float64]:\n",
    "        tau_"
   ]
  }
 ],
 "metadata": {
  "kernelspec": {
   "display_name": "Python 3 (ipykernel)",
   "language": "python",
   "name": "python3"
  },
  "language_info": {
   "codemirror_mode": {
    "name": "ipython",
    "version": 3
   },
   "file_extension": ".py",
   "mimetype": "text/x-python",
   "name": "python",
   "nbconvert_exporter": "python",
   "pygments_lexer": "ipython3",
   "version": "3.9.6"
  }
 },
 "nbformat": 4,
 "nbformat_minor": 5
}
